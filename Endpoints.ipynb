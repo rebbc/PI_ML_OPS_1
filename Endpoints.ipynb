{
 "cells": [
  {
   "cell_type": "code",
   "execution_count": 4,
   "metadata": {},
   "outputs": [],
   "source": [
    "import pandas as pd"
   ]
  },
  {
   "cell_type": "markdown",
   "metadata": {},
   "source": [
    "<p>def sentiment_analysis( año: int ) : Según el año de lanzamiento, se devuelve una lista con la cantidad de registros de reseñas de usuarios que se encuentran categorizados con un análisis de sentimiento.\n",
    "Ejemplo de retorno: {Negativo = 182, Neutral = 120, Positivo = 278}</p>"
   ]
  },
  {
   "cell_type": "code",
   "execution_count": 64,
   "metadata": {},
   "outputs": [],
   "source": [
    "def sentiment_analysis(año:int):#ESTÁ OK EN FASTAPI\n",
    "    df_usersrecommend = pd.read_csv('datasets/df_usersrecommend.csv')\n",
    "\n",
    "    year = df_usersrecommend[df_usersrecommend['posted_year'] == año]\n",
    "    sentiment_counts = year['sentiment_analysis'].value_counts()\n",
    "    cant_negativo = sentiment_counts.get(0)\n",
    "    cant_neutral = sentiment_counts.get(1)\n",
    "    cant_positivo = sentiment_counts.get(2)\n",
    "    result = {\n",
    "            f\"Negativo: {cant_negativo}, Neutral: {cant_neutral}, Positivo: {cant_positivo}\"   \n",
    "        }\n",
    "    \n",
    "    return result"
   ]
  },
  {
   "cell_type": "code",
   "execution_count": 65,
   "metadata": {},
   "outputs": [
    {
     "name": "stdout",
     "output_type": "stream",
     "text": [
      "{'Negativo: 14581, Neutral: 7884, Positivo: 25283'}\n"
     ]
    }
   ],
   "source": [
    "año = 2015\n",
    "resultado1 = sentiment_analysis(año)\n",
    "print(resultado1)"
   ]
  },
  {
   "cell_type": "markdown",
   "metadata": {},
   "source": [
    "<p>def UsersRecommend( año: int ) : Devuelve el top 3 de juegos MÁS recomendados por usuarios para el año dado. (reviews.recommend = True y comentarios positivos/neutrales)\n",
    "Ejemplo de retorno: [{\"Puesto 1\" : X}, {\"Puesto 2\" : Y},{\"Puesto 3\" : Z}]</p>"
   ]
  },
  {
   "cell_type": "code",
   "execution_count": 73,
   "metadata": {},
   "outputs": [],
   "source": [
    "def UsersNotRecommend(año:int): #ESTÁ OK EN FASTAPI\n",
    "    df = pd.read_csv('datasets/df_usersrecommend.csv')\n",
    "\n",
    "    year_review = df[df['posted_year'] == año]\n",
    "    \n",
    "\n",
    "    reviews_recommend = year_review[year_review['recommend'] == False] \n",
    "\n",
    "    sentiment_analysis_pos = reviews_recommend[reviews_recommend['sentiment_analysis'].isin([0])]\n",
    "\n",
    "    review_games_pos = sentiment_analysis_pos['item_id'].value_counts()\n",
    "    review_games_pos = review_games_pos.sort_values(ascending=False) #sigue siendo False porque son los que tienen mas reacciones negativas\n",
    "\n",
    "    top_3 = review_games_pos.head(3)\n",
    "    if top_3.empty:\n",
    "        error = f\"No se encontraron juegos recomendados para el año especificado.\"\n",
    "        return error\n",
    "\n",
    "    top_3_nombres = df[df['item_id'].isin(top_3.index)][['item_id', 'item_name']].value_counts()\n",
    "\n",
    "    puesto1 = top_3_nombres.index[0][1]\n",
    "    puesto2 = top_3_nombres.index[1][1]\n",
    "    puesto3 = top_3_nombres.index[2][1]\n",
    "\n",
    "    resultado = {\n",
    "        f\"Puesto 1:, {puesto1}, Puesto 2: {puesto2}, Puesto 3: {puesto3}\"\n",
    "    }\n",
    "\n",
    "    return resultado"
   ]
  },
  {
   "cell_type": "code",
   "execution_count": 74,
   "metadata": {},
   "outputs": [
    {
     "name": "stdout",
     "output_type": "stream",
     "text": [
      "{'Puesto 1:, War Thunder, Puesto 2: Loadout, Puesto 3: Robocraft'}\n"
     ]
    }
   ],
   "source": [
    "año = 2014\n",
    "prueba2 = UsersNotRecommend(año)\n",
    "print(prueba2)"
   ]
  },
  {
   "cell_type": "markdown",
   "metadata": {},
   "source": [
    "<p>def UsersNotRecommend( año: int ) : Devuelve el top 3 de juegos MENOS recomendados por usuarios para el año dado. (reviews.recommend = False y comentarios negativos)\n",
    "Ejemplo de retorno: [{\"Puesto 1\" : X}, {\"Puesto 2\" : Y},{\"Puesto 3\" : Z}]</p>"
   ]
  },
  {
   "cell_type": "code",
   "execution_count": 1,
   "metadata": {},
   "outputs": [],
   "source": [
    "def UsersRecommend(año:int): #ESTÁ OK EN FASTAPI\n",
    "    df = pd.read_csv('datasets/df_usersrecommend.csv')\n",
    "\n",
    "    year_review = df[df['posted_year'] == año]\n",
    "\n",
    "\n",
    "    reviews_recommend = year_review[year_review['recommend'] == True] \n",
    "\n",
    "    sentiment_analysis_pos = reviews_recommend[reviews_recommend['sentiment_analysis'].isin([1, 2])]\n",
    "\n",
    "    review_games_pos = sentiment_analysis_pos['item_id'].value_counts()\n",
    "    review_games_pos = review_games_pos.sort_values(ascending=False)\n",
    "\n",
    "    top_3 = review_games_pos.head(3)\n",
    "    if top_3.empty:\n",
    "        error = f\"No se encontraron juegos recomendados para el año especificado.\"\n",
    "        return error\n",
    "    \n",
    "    top_3_nombres = df[df['item_id'].isin(top_3.index)][['item_id', 'item_name']].value_counts()\n",
    "\n",
    "    puesto1 = top_3_nombres.index[0][1]\n",
    "    puesto2 = top_3_nombres.index[1][1]\n",
    "    puesto3 = top_3_nombres.index[2][1]\n",
    "\n",
    "    resultado = {\n",
    "        f\"Puesto 1:, {puesto1}, Puesto 2: {puesto2}, Puesto 3: {puesto3}\"\n",
    "    }\n",
    "\n",
    "    return resultado\n",
    "\n",
    "\n"
   ]
  },
  {
   "cell_type": "code",
   "execution_count": 6,
   "metadata": {},
   "outputs": [
    {
     "name": "stdout",
     "output_type": "stream",
     "text": [
      "{\"Puesto 1:, Counter-Strike: Global Offensive, Puesto 2: Garry's Mod, Puesto 3: The Elder Scrolls V: Skyrim\"}\n"
     ]
    }
   ],
   "source": [
    "año = 2014\n",
    "prueba = UsersRecommend(año)\n",
    "print(prueba)"
   ]
  },
  {
   "cell_type": "markdown",
   "metadata": {},
   "source": [
    "<p>def PlayTimeGenre( genero: str ) : Debe devolver añocon más horas jugadas para dicho género.\n",
    "Ejemplo de retorno: {\"Año de lanzamiento con más horas jugadas para Género X\" : 2013}</p>"
   ]
  },
  {
   "cell_type": "code",
   "execution_count": 33,
   "metadata": {},
   "outputs": [],
   "source": [
    "def PlayTimeGenre(genero:str):\n",
    "     \n",
    "    df_playtime = pd.read_csv('datasets/df_playtimegenre.csv')\n",
    "    data_genero = df_playtime[df_playtime['genres'] == genero]\n",
    "    \n",
    "    group = data_genero.groupby('posted_year')['playtime_forever'].sum()\n",
    "    max_anio = group.idxmax(skipna=True)\n",
    "\n",
    "    result = {f\"Año de lanzamiento con más horas jugadas para {genero}: {max_anio}\"}\n",
    "\n",
    "    return result"
   ]
  },
  {
   "cell_type": "code",
   "execution_count": 34,
   "metadata": {},
   "outputs": [
    {
     "data": {
      "text/plain": [
       "{'Año de lanzamiento con más horas jugadas para Free to Play: 2014'}"
      ]
     },
     "execution_count": 34,
     "metadata": {},
     "output_type": "execute_result"
    }
   ],
   "source": [
    "PlayTimeGenre('Free to Play')"
   ]
  },
  {
   "cell_type": "code",
   "execution_count": 55,
   "metadata": {},
   "outputs": [],
   "source": [
    "def UserForGenre(genero:str):\n",
    "    df_playtime = pd.read_csv('datasets/df_playtimegenre.csv')\n",
    "    data_genero = df_playtime[df_playtime['genres'] == genero]    \n",
    "    group = data_genero.groupby('user_id')['playtime_forever'].sum()\n",
    "    usuario_max_hs = group.idxmax()\n",
    "    data_usuario_max_hs = data_genero[data_genero['user_id'] == usuario_max_hs]\n",
    "    horas_por_ano = data_usuario_max_hs.groupby('posted_year')['playtime_forever'].sum()\n",
    "\n",
    "    acumulacion_horas = [{\"Año\": int(year), \"Horas\": int(horas)} for year, horas in horas_por_ano.items()]\n",
    "\n",
    "    resultado = {\n",
    "        \"Usuario con más horas jugadas para \" + genero: usuario_max_hs,\n",
    "        \"Horas jugadas\": acumulacion_horas\n",
    "    }\n",
    "\n",
    "    return resultado\n",
    "\n",
    "   #En esta función se me dificultó la suma de las horas por año."
   ]
  },
  {
   "cell_type": "code",
   "execution_count": 56,
   "metadata": {},
   "outputs": [
    {
     "data": {
      "text/plain": [
       "{'Usuario con más horas jugadas para Action': '76561198066521732',\n",
       " 'Horas jugadas': [{'Año': 2013, 'Horas': 234315},\n",
       "  {'Año': 2014, 'Horas': 234315},\n",
       "  {'Año': 2015, 'Horas': 234315}]}"
      ]
     },
     "execution_count": 56,
     "metadata": {},
     "output_type": "execute_result"
    }
   ],
   "source": [
    "UserForGenre(genero='Action')"
   ]
  }
 ],
 "metadata": {
  "kernelspec": {
   "display_name": "Python 3",
   "language": "python",
   "name": "python3"
  },
  "language_info": {
   "codemirror_mode": {
    "name": "ipython",
    "version": 3
   },
   "file_extension": ".py",
   "mimetype": "text/x-python",
   "name": "python",
   "nbconvert_exporter": "python",
   "pygments_lexer": "ipython3",
   "version": "3.11.5"
  }
 },
 "nbformat": 4,
 "nbformat_minor": 2
}
