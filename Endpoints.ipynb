{
 "cells": [
  {
   "cell_type": "markdown",
   "metadata": {},
   "source": [
    "<p>Debes crear las siguientes funciones para los endpoints que se consumirán en la API, recuerdan que deben tener un decorador por cada una (@app.get('/')).</p>\n",
    "\n",
    "<p>def PlayTimeGenre( genero: str ) : Debe devolver añocon más horas jugadas para dicho género.\n",
    "Ejemplo de retorno: {\"Año de lanzamiento con más horas jugadas para Género X\" : 2013}</p>\n",
    "\n",
    "<p>def UserForGenre( genero: str ) : Debe devolver el usuario que acumula más horas jugadas para el género dado y una lista de la acumulación de horas jugadas por año.\n",
    "Ejemplo de retorno: {\"Usuario con más horas jugadas para Género X\" : us213ndjss09sdf, \"Horas jugadas\":[{Año: 2013, Horas: 203}, {Año: 2012, Horas: 100}, {Año: 2011, Horas : 23}]}</p>\n",
    "\n",
    "<p>def UsersRecommend( año: int ) : Devuelve el top 3 de juegos MÁS recomendados por usuarios para el año dado. (reviews.recommend = True y comentarios positivos/neutrales)\n",
    "Ejemplo de retorno: [{\"Puesto 1\" : X}, {\"Puesto 2\" : Y},{\"Puesto 3\" : Z}]</p>\n",
    "\n",
    "<p>def UsersNotRecommend( año: int ) : Devuelve el top 3 de juegos MENOS recomendados por usuarios para el año dado. (reviews.recommend = False y comentarios negativos)\n",
    "Ejemplo de retorno: [{\"Puesto 1\" : X}, {\"Puesto 2\" : Y},{\"Puesto 3\" : Z}]</p>\n",
    "\n",
    "<p>def sentiment_analysis( año: int ) : Según el año de lanzamiento, se devuelve una lista con la cantidad de registros de reseñas de usuarios que se encuentran categorizados con un análisis de sentimiento.\n",
    "Ejemplo de retorno: {Negativo = 182, Neutral = 120, Positivo = 278}</p>"
   ]
  },
  {
   "cell_type": "code",
   "execution_count": 16,
   "metadata": {},
   "outputs": [],
   "source": [
    "import pandas as pd"
   ]
  },
  {
   "cell_type": "code",
   "execution_count": 12,
   "metadata": {},
   "outputs": [],
   "source": [
    "def sentiment_analysis_jup(año:int): #ESTÁ OK EN FASTAPI\n",
    "    df_steams = pd.read_csv('datasets/data_outputs.csv') #ahora cargo los df en cada funcion porque estoy en el jupyter, depsues tengo q cargar una sola vez\n",
    "    df_review = pd.read_csv('datasets/data_user.csv')\n",
    "\n",
    "    release_year = df_steams[df_steams['release_year'] == año]\n",
    "    merged_data = release_year.merge(df_review, on='item_id', how='inner')\n",
    "\n",
    "    sentiment_counts = merged_data['sentiment_analysis'].value_counts()\n",
    "    \n",
    "    cant_negativo = sentiment_counts.get(0)\n",
    "    cant_neutral = sentiment_counts.get(1)\n",
    "    cant_positivo = sentiment_counts.get(2)\n",
    "\n",
    "    result = {\n",
    "            f\"Negativo: {cant_negativo}, Neutral: {cant_neutral}, Positivo: {cant_positivo}\"   \n",
    "        }\n",
    "    \n",
    "    return result"
   ]
  },
  {
   "cell_type": "code",
   "execution_count": 13,
   "metadata": {},
   "outputs": [
    {
     "name": "stdout",
     "output_type": "stream",
     "text": [
      "{'Negativo: 212, Neutral: 349, Positivo: 820'}\n"
     ]
    }
   ],
   "source": [
    "año = 2007\n",
    "resultado1 = sentiment_analysis_jup(año)\n",
    "print(resultado1)"
   ]
  },
  {
   "cell_type": "code",
   "execution_count": 73,
   "metadata": {},
   "outputs": [],
   "source": [
    "def UsersNotRecommend(año:int): #ESTÁ OK EN FASTAPI\n",
    "    df = pd.read_csv('datasets/df_usersrecommend.csv')\n",
    "\n",
    "    year_review = df[df['posted_year'] == año]\n",
    "    \n",
    "\n",
    "    reviews_recommend = year_review[year_review['recommend'] == False] \n",
    "\n",
    "    sentiment_analysis_pos = reviews_recommend[reviews_recommend['sentiment_analysis'].isin([0])]\n",
    "\n",
    "    review_games_pos = sentiment_analysis_pos['item_id'].value_counts()\n",
    "    review_games_pos = review_games_pos.sort_values(ascending=False) #sigue siendo False porque son los que tienen mas reacciones negativas\n",
    "\n",
    "    top_3 = review_games_pos.head(3)\n",
    "    if top_3.empty:\n",
    "        error = f\"No se encontraron juegos recomendados para el año especificado.\"\n",
    "        return error\n",
    "\n",
    "    top_3_nombres = df[df['item_id'].isin(top_3.index)][['item_id', 'item_name']].value_counts()\n",
    "\n",
    "    puesto1 = top_3_nombres.index[0][1]\n",
    "    puesto2 = top_3_nombres.index[1][1]\n",
    "    puesto3 = top_3_nombres.index[2][1]\n",
    "\n",
    "    resultado = {\n",
    "        f\"Puesto 1:, {puesto1}, Puesto 2: {puesto2}, Puesto 3: {puesto3}\"\n",
    "    }\n",
    "\n",
    "    return resultado"
   ]
  },
  {
   "cell_type": "code",
   "execution_count": 74,
   "metadata": {},
   "outputs": [
    {
     "name": "stdout",
     "output_type": "stream",
     "text": [
      "{'Puesto 1:, War Thunder, Puesto 2: Loadout, Puesto 3: Robocraft'}\n"
     ]
    }
   ],
   "source": [
    "año = 2014\n",
    "prueba2 = UsersNotRecommend(año)\n",
    "print(prueba2)"
   ]
  },
  {
   "cell_type": "code",
   "execution_count": 75,
   "metadata": {},
   "outputs": [],
   "source": [
    "def UsersRecommend(año:int): #ESTÁ OK EN FASTAPI\n",
    "    df = pd.read_csv('datasets/df_usersrecommend.csv')\n",
    "\n",
    "    year_review = df[df['posted_year'] == año]\n",
    "\n",
    "\n",
    "    reviews_recommend = year_review[year_review['recommend'] == True] \n",
    "\n",
    "    sentiment_analysis_pos = reviews_recommend[reviews_recommend['sentiment_analysis'].isin([1, 2])]\n",
    "\n",
    "    review_games_pos = sentiment_analysis_pos['item_id'].value_counts()\n",
    "    review_games_pos = review_games_pos.sort_values(ascending=False)\n",
    "\n",
    "    top_3 = review_games_pos.head(3)\n",
    "    if top_3.empty:\n",
    "        error = f\"No se encontraron juegos recomendados para el año especificado.\"\n",
    "        return error\n",
    "    \n",
    "    top_3_nombres = df[df['item_id'].isin(top_3.index)][['item_id', 'item_name']].value_counts()\n",
    "\n",
    "    puesto1 = top_3_nombres.index[0][1]\n",
    "    puesto2 = top_3_nombres.index[1][1]\n",
    "    puesto3 = top_3_nombres.index[2][1]\n",
    "\n",
    "    resultado = {\n",
    "        f\"Puesto 1:, {puesto1}, Puesto 2: {puesto2}, Puesto 3: {puesto3}\"\n",
    "    }\n",
    "\n",
    "    return resultado\n",
    "\n",
    "\n"
   ]
  },
  {
   "cell_type": "code",
   "execution_count": 76,
   "metadata": {},
   "outputs": [
    {
     "name": "stdout",
     "output_type": "stream",
     "text": [
      "{\"Puesto 1:, Counter-Strike: Global Offensive, Puesto 2: Garry's Mod, Puesto 3: PAYDAY 2\"}\n"
     ]
    }
   ],
   "source": [
    "año = 2013\n",
    "prueba = UsersRecommend(año)\n",
    "print(prueba)"
   ]
  },
  {
   "cell_type": "markdown",
   "metadata": {},
   "source": [
    "def UserForGenre( genero: str ) : Debe devolver el usuario que acumula más horas jugadas para el género dado y una lista de la acumulación de horas jugadas por año.\n",
    "Ejemplo de retorno: {\"Usuario con más horas jugadas para Género X\" : us213ndjss09sdf, \"Horas jugadas\":[{Año: 2013, Horas: 203}, {Año: 2012, Horas: 100}, {Año: 2011, Horas : 23}]}"
   ]
  },
  {
   "cell_type": "code",
   "execution_count": null,
   "metadata": {},
   "outputs": [],
   "source": [
    "def UserForGenre(genero:str): #--> usa de outputs (genero) y de items (user id, un año y playtimeforever)\n",
    "    df_steams = pd.read_csv('datasets/data_outputs.csv')\n",
    "    df_items = pd.read_csv('datasets/data_items.csv')\n",
    "\n",
    "    data_genero = df_steams[df_steams['genres'] == genero]\n",
    "    usuario = df_items[df_items['user_id']]\n",
    "    horas_jugadas = df_items[df_items['playtime_forever']] \n",
    "\n",
    "    #como calculo el año?"
   ]
  },
  {
   "cell_type": "code",
   "execution_count": 10,
   "metadata": {},
   "outputs": [],
   "source": [
    "def PlayTimeGenre(genero:str): #--> usa de outputs (genero), de user (posted) y de items (playtime forever) ver tema año\n",
    "\n",
    "    df = pd.read_csv('datasets/data_outputs.csv')\n",
    "\n",
    "    data_genero = df[df['genres'] == genero]\n",
    "    \n",
    "    #group = data_genero.groupby('posted_year')['playtime_forever'].sum()\n",
    "    #max_anio = group.idxmax(skipna=True)\n",
    "\n",
    "    #result = {\n",
    "   #     f\"Año de lanzamiento con más horas jugadas para {genero}:\", max_anio\n",
    "    #}\n",
    "\n",
    "    return data_genero"
   ]
  },
  {
   "cell_type": "code",
   "execution_count": 11,
   "metadata": {},
   "outputs": [
    {
     "name": "stdout",
     "output_type": "stream",
     "text": [
      "Empty DataFrame\n",
      "Columns: [publisher, genres, app_name, title, url, release_date, tags, reviews_url, specs, price, early_access, item_id, developer, release_year]\n",
      "Index: []\n"
     ]
    }
   ],
   "source": [
    "genero = 'Action'\n",
    "resultado = PlayTimeGenre(genero)\n",
    "print(resultado)"
   ]
  }
 ],
 "metadata": {
  "kernelspec": {
   "display_name": "Python 3",
   "language": "python",
   "name": "python3"
  },
  "language_info": {
   "codemirror_mode": {
    "name": "ipython",
    "version": 3
   },
   "file_extension": ".py",
   "mimetype": "text/x-python",
   "name": "python",
   "nbconvert_exporter": "python",
   "pygments_lexer": "ipython3",
   "version": "3.11.5"
  }
 },
 "nbformat": 4,
 "nbformat_minor": 2
}
